{
  "cells": [
    {
      "cell_type": "code",
      "execution_count": null,
      "metadata": {
        "colab": {
          "base_uri": "https://localhost:8080/",
          "height": 589
        },
        "id": "voRZ9oi9nfOw",
        "outputId": "02afcdb3-232f-42c6-9a3f-37fbcaffec30"
      },
      "outputs": [],
      "source": [
        "\"\"\"\n",
        "https://github.com/Sematemur\n",
        "\n",
        "#https://github.com/VelatDicleli\n",
        "\n",
        "\"\"\"\n",
        "\n",
        "import pandas as pd  #verilerin dosyasını açtık \n",
        "import numpy as np\n",
        "df=pd.read_csv(\"Methane_final.csv\")\n",
        "df"
      ]
    },
    {
      "cell_type": "code",
      "execution_count": null,
      "metadata": {
        "colab": {
          "base_uri": "https://localhost:8080/",
          "height": 467
        },
        "id": "BSeVqrcQpCSn",
        "outputId": "00730ebb-91c9-4dc2-fc8e-b7ad1f814701"
      },
      "outputs": [],
      "source": [
        "veri=df[df[\"segment\"]==\"Total\"] # segment sütununda Total olan verileri ayırdık\n",
        "veri"
      ]
    },
    {
      "cell_type": "code",
      "execution_count": null,
      "metadata": {
        "colab": {
          "base_uri": "https://localhost:8080/",
          "height": 467
        },
        "id": "akCX03ATGs4N",
        "outputId": "cd269c9d-d014-48ef-9e23-4eb747bd473f"
      },
      "outputs": [],
      "source": [
        "veri= veri.drop(labels=[1547,1546,1545,1526], axis=0) #son dört verimizde tüm dünya bilgisi oldugu için onu sildik\n",
        "veri"
      ]
    },
    {
      "cell_type": "code",
      "execution_count": null,
      "metadata": {
        "colab": {
          "base_uri": "https://localhost:8080/"
        },
        "id": "YNcr7T7Qyq-p",
        "outputId": "4d8dcc8e-7b8d-4e52-9d8e-2800707471a0"
      },
      "outputs": [],
      "source": [
        "veri.info() #buradan emisyon sutunun datatype ogrendim"
      ]
    },
    {
      "cell_type": "code",
      "execution_count": null,
      "metadata": {
        "colab": {
          "base_uri": "https://localhost:8080/"
        },
        "id": "pwBq68DxtpCJ",
        "outputId": "71597f34-323c-4e25-d349-d3c7ac4cc70e"
      },
      "outputs": [],
      "source": [
        "ulkeler=veri[\"country\"].unique() #ülkeleri tek tek cektim\n",
        "ulkeler\n"
      ]
    },
    {
      "cell_type": "code",
      "execution_count": null,
      "metadata": {
        "colab": {
          "base_uri": "https://localhost:8080/",
          "height": 423
        },
        "id": "0p-kV0kCzmc4",
        "outputId": "c390a79d-5770-4263-c4cb-158f411660b4"
      },
      "outputs": [],
      "source": [
        "ulkem=pd.DataFrame(ulkeler) # ülkeleri dataframe olarak gösterdim\n",
        "ulkem"
      ]
    },
    {
      "cell_type": "code",
      "execution_count": null,
      "metadata": {
        "colab": {
          "base_uri": "https://localhost:8080/",
          "height": 423
        },
        "id": "e07s4I1_Phy5",
        "outputId": "35040f29-c6f4-4e55-bc48-34cb94629322"
      },
      "outputs": [],
      "source": [
        "a=veri[\"country\"].value_counts() #dataframede ülkelerin tekrar sayılarını\n",
        "s=pd.DataFrame(a)\n",
        "s\n",
        "\n",
        " "
      ]
    },
    {
      "cell_type": "code",
      "execution_count": null,
      "metadata": {
        "colab": {
          "base_uri": "https://localhost:8080/",
          "height": 423
        },
        "id": "9-OWgB4YQdZp",
        "outputId": "0a613170-ef30-4299-9644-8c35a00723ea"
      },
      "outputs": [],
      "source": [
        "dortlu=s[s[\"country\"]==4] #burada  dört kere tekrar eden ülkeleri buldum\n",
        "dortlu"
      ]
    },
    {
      "cell_type": "code",
      "execution_count": null,
      "metadata": {
        "colab": {
          "base_uri": "https://localhost:8080/",
          "height": 237
        },
        "id": "kX-zMNHfQq10",
        "outputId": "743af37c-1d8e-4bb8-bcaf-7a3c71eb46b7"
      },
      "outputs": [],
      "source": [
        "uclu=s[s[\"country\"]==3] #burada 3 kere tekrar eden ülkeleri buldum\n",
        "uclu\n",
        "## uc satırlı oldukları için bunları dört satırlı yapmamız lazım ki verileri dogru alalım\n"
      ]
    },
    {
      "cell_type": "code",
      "execution_count": null,
      "metadata": {
        "colab": {
          "base_uri": "https://localhost:8080/",
          "height": 143
        },
        "id": "Xsa9ayq2B_YP",
        "outputId": "44dc4c54-0704-40ee-ca49-e5315849bf43"
      },
      "outputs": [],
      "source": [
        "veri[veri[\"country\"]==\"Gambia\"] #üçlü olanların bilgilerini bulmak için tek tek boyle yazdırdık"
      ]
    },
    {
      "cell_type": "code",
      "execution_count": null,
      "metadata": {
        "colab": {
          "base_uri": "https://localhost:8080/",
          "height": 143
        },
        "id": "USgjFRp6CVgX",
        "outputId": "a1d33c85-0f05-4f1a-d60c-6cef6fba7ab2"
      },
      "outputs": [],
      "source": [
        "veri[veri[\"country\"]==\"Sierra Leone\"]"
      ]
    },
    {
      "cell_type": "code",
      "execution_count": null,
      "metadata": {
        "colab": {
          "base_uri": "https://localhost:8080/",
          "height": 143
        },
        "id": "Wx6SafX8Cg0T",
        "outputId": "27c4786a-67b6-469b-a510-f42db3218c6a"
      },
      "outputs": [],
      "source": [
        "veri[veri[\"country\"]==\"Guinea-Bissau\"]"
      ]
    },
    {
      "cell_type": "code",
      "execution_count": null,
      "metadata": {
        "colab": {
          "base_uri": "https://localhost:8080/",
          "height": 143
        },
        "id": "AYDZFk79CpoZ",
        "outputId": "41354f7d-4fbf-4424-a3b5-707360125c77"
      },
      "outputs": [],
      "source": [
        "veri[veri[\"country\"]==\"Liberia\"]"
      ]
    },
    {
      "cell_type": "code",
      "execution_count": null,
      "metadata": {
        "colab": {
          "base_uri": "https://localhost:8080/",
          "height": 143
        },
        "id": "2crxXmH2CrFh",
        "outputId": "575d3d79-eaec-4636-8569-aaa2ca49e436"
      },
      "outputs": [],
      "source": [
        "veri[veri[\"country\"]==\"Central African Republic\"]"
      ]
    },
    {
      "cell_type": "code",
      "execution_count": null,
      "metadata": {
        "colab": {
          "base_uri": "https://localhost:8080/",
          "height": 143
        },
        "id": "BnUHTS2wCr42",
        "outputId": "bf9dd736-9b6d-4c5e-aa01-05b17cd02c56"
      },
      "outputs": [],
      "source": [
        "veri[veri[\"country\"]==\"Seychelles\"]"
      ]
    },
    {
      "cell_type": "code",
      "execution_count": null,
      "metadata": {
        "colab": {
          "base_uri": "https://localhost:8080/"
        },
        "id": "r4R8LjIe3C2Y",
        "outputId": "7f672000-9f93-43c4-e45b-fd842da03d6e"
      },
      "outputs": [],
      "source": [
        "#burada satır ekleme işlemi yaptık. country ,segment ,region ve index belirterek istedğimiz yere ekleme yaptık\n",
        "\n",
        "new_row = pd.DataFrame({'country': 'Gambia', 'segment': 'Total','emissions':15.8,'region':'Africa'}, index=[187])\n",
        "veri = veri.append(new_row)\n",
        "\n",
        "\n",
        "\n",
        "new_row = pd.DataFrame({'country': 'Sierra Leone', 'segment': 'Total','emissions':48.5,'region':'Africa'}, index=[324])\n",
        "veri = veri.append(new_row)\n",
        "\n",
        "\n",
        "new_row = pd.DataFrame({'country': 'Guinea-Bissau','segment': 'Total','emissions':28.6,'region':'Africa'}, index=[211])\n",
        "veri = veri.append(new_row)\n",
        "\n",
        "\n",
        "\n",
        "new_row = pd.DataFrame({'country': 'Liberia', 'segment': 'Total','emissions':14.3,'region':'Africa'}, index=[221])\n",
        "veri = veri.append(new_row)\n",
        "\n",
        "\n",
        "\n",
        "new_row = pd.DataFrame({'country':'Central African Republic', 'segment': 'Total','emissions':146.6,'region':'Africa'}, index=[67])\n",
        "veri = veri.append(new_row)\n",
        "\n",
        "\n",
        "\n",
        "new_row = pd.DataFrame({'country': 'Seychelles','segment': 'Total','emissions':2.62,'region':'Africa'}, index=[321])\n",
        "veri = veri.append(new_row)\n"
      ]
    },
    {
      "cell_type": "code",
      "execution_count": null,
      "metadata": {
        "id": "QY_hiKIKGGLi"
      },
      "outputs": [],
      "source": [
        "#veri= veri.dropna() ## bu ise satırları yanlıs eklersek silmek için kullanılıyor\n",
        "\n"
      ]
    },
    {
      "cell_type": "code",
      "execution_count": null,
      "metadata": {
        "colab": {
          "base_uri": "https://localhost:8080/",
          "height": 467
        },
        "id": "pfmV_43uH5Ch",
        "outputId": "4c5cb151-ddde-4226-bb59-0565073a315d"
      },
      "outputs": [],
      "source": [
        "veri=veri.sort_index() #satırları ekledikten sonra indexlerini sıralamak için yaptık\n",
        "veri"
      ]
    },
    {
      "cell_type": "code",
      "execution_count": null,
      "metadata": {
        "colab": {
          "base_uri": "https://localhost:8080/",
          "height": 423
        },
        "id": "e4g3v_FXyZ_l",
        "outputId": "174587b0-59df-44b6-c228-8c1f98dcb648"
      },
      "outputs": [],
      "source": [
        "a=0\n",
        "liste=[]                                   ## burdaki kodumuz ise bize dataframedeki emisyon bilgilerini düzenlememizi sağladı\n",
        "listee=[]                                  ## bize aynı ülkedeki toplam emisyon değerlerini bir dataframe olarak görmemizi sağladı\n",
        "while a<416:\n",
        "   liste=veri[\"emissions\"].iloc[a:a+4]\n",
        "   toplam=sum(liste)\n",
        "   listee.append(toplam)\n",
        "   a=a+4\n",
        "   toplam=0\n",
        "\n",
        "emisyon=pd.DataFrame(listee)\n",
        "emisyon\n"
      ]
    },
    {
      "cell_type": "code",
      "execution_count": null,
      "metadata": {
        "colab": {
          "base_uri": "https://localhost:8080/",
          "height": 423
        },
        "id": "ivLw9UtbxN_J",
        "outputId": "531c868b-9cd0-45cf-cb28-173300bc53d2"
      },
      "outputs": [],
      "source": [
        "result = pd.concat([emisyon, ulkem],axis=1,ignore_index=True) #concat metoduyla iki dataframe birleştirdik\n",
        "result\n"
      ]
    },
    {
      "cell_type": "code",
      "execution_count": null,
      "metadata": {
        "colab": {
          "base_uri": "https://localhost:8080/",
          "height": 423
        },
        "id": "5Jar0TEbIPFj",
        "outputId": "f96ca09f-d3cf-4033-eedb-e0d3daacb08c"
      },
      "outputs": [],
      "source": [
        "result.columns=[\"toplam emisyon değeri\",\"ülkeler\"] #dataframede sütun isimlerini değiştirdik\n",
        "result"
      ]
    },
    {
      "cell_type": "code",
      "execution_count": null,
      "metadata": {
        "id": "xnrjS0BANJ2k"
      },
      "outputs": [],
      "source": [
        "# görselleştirme için plotly kütüphanesi import edildi\n",
        "import plotly.express as px"
      ]
    },
    {
      "cell_type": "code",
      "execution_count": 26,
      "metadata": {
        "colab": {
          "base_uri": "https://localhost:8080/",
          "height": 542
        },
        "id": "IHufC6QwNRCt",
        "outputId": "57d0679d-4036-4db4-f8a9-5a685af097b2"
      },
      "outputs": [
        {
          "data": {
            "application/vnd.plotly.v1+json": {
              "config": {
                "plotlyServerURL": "https://plot.ly"
              },
              "data": [
                {
                  "coloraxis": "coloraxis",
                  "geo": "geo",
                  "hovertemplate": "<b>%{hovertext}</b><br><br>ülkeler=%{location}<br>toplam emisyon değeri=%{z}<extra></extra>",
                  "hovertext": [
                    "Algeria",
                    "Angola",
                    "Benin",
                    "Botswana",
                    "Cameroon",
                    "Central African Republic",
                    "Chad",
                    "Congo",
                    "Cote d'Ivoire",
                    "Democratic Republic of Congo",
                    "Egypt",
                    "Equatorial Guinea",
                    "Eritrea",
                    "Ethiopia",
                    "Gabon",
                    "Gambia",
                    "Ghana",
                    "Guinea",
                    "Guinea-Bissau",
                    "Kenya",
                    "Liberia",
                    "Libya",
                    "Morocco",
                    "Mozambique",
                    "Namibia",
                    "Niger",
                    "Nigeria",
                    "Senegal",
                    "Seychelles",
                    "Sierra Leone",
                    "Somalia",
                    "South Africa",
                    "South Sudan",
                    "Sudan",
                    "Tanzania",
                    "Togo",
                    "Tunisia",
                    "Australia",
                    "Bangladesh",
                    "Brunei",
                    "China",
                    "India",
                    "Indonesia",
                    "Japan",
                    "Korea",
                    "Malaysia",
                    "Mongolia",
                    "New Zealand",
                    "Other countries in Southeast Asia",
                    "Pakistan",
                    "Philippines",
                    "Thailand",
                    "Vietnam",
                    "Argentina",
                    "Bolivia",
                    "Brazil",
                    "Colombia",
                    "Cuba",
                    "Ecuador",
                    "Guyana",
                    "Paraguay",
                    "Peru",
                    "Trinidad and Tobago",
                    "Uruguay",
                    "Venezuela",
                    "Denmark",
                    "Estonia",
                    "European Union",
                    "France",
                    "Germany",
                    "Israel",
                    "Italy",
                    "Netherlands",
                    "Norway",
                    "Other countries in Europe",
                    "Other EU17 countries",
                    "Other EU7 countries",
                    "Poland",
                    "Romania",
                    "Slovenia",
                    "Sweden",
                    "Ukraine",
                    "United Kingdom",
                    "Bahrain",
                    "Iran",
                    "Iraq",
                    "Jordan",
                    "Kuwait",
                    "Lebanon",
                    "Oman",
                    "Qatar",
                    "Saudi Arabia",
                    "Syria",
                    "United Arab Emirates",
                    "Yemen",
                    "Canada",
                    "Mexico",
                    "United States",
                    "Other",
                    "Azerbaijan",
                    "Kazakhstan",
                    "Russia",
                    "Turkmenistan",
                    "Uzbekistan"
                  ],
                  "locationmode": "country names",
                  "locations": [
                    "Algeria",
                    "Angola",
                    "Benin",
                    "Botswana",
                    "Cameroon",
                    "Central African Republic",
                    "Chad",
                    "Congo",
                    "Cote d'Ivoire",
                    "Democratic Republic of Congo",
                    "Egypt",
                    "Equatorial Guinea",
                    "Eritrea",
                    "Ethiopia",
                    "Gabon",
                    "Gambia",
                    "Ghana",
                    "Guinea",
                    "Guinea-Bissau",
                    "Kenya",
                    "Liberia",
                    "Libya",
                    "Morocco",
                    "Mozambique",
                    "Namibia",
                    "Niger",
                    "Nigeria",
                    "Senegal",
                    "Seychelles",
                    "Sierra Leone",
                    "Somalia",
                    "South Africa",
                    "South Sudan",
                    "Sudan",
                    "Tanzania",
                    "Togo",
                    "Tunisia",
                    "Australia",
                    "Bangladesh",
                    "Brunei",
                    "China",
                    "India",
                    "Indonesia",
                    "Japan",
                    "Korea",
                    "Malaysia",
                    "Mongolia",
                    "New Zealand",
                    "Other countries in Southeast Asia",
                    "Pakistan",
                    "Philippines",
                    "Thailand",
                    "Vietnam",
                    "Argentina",
                    "Bolivia",
                    "Brazil",
                    "Colombia",
                    "Cuba",
                    "Ecuador",
                    "Guyana",
                    "Paraguay",
                    "Peru",
                    "Trinidad and Tobago",
                    "Uruguay",
                    "Venezuela",
                    "Denmark",
                    "Estonia",
                    "European Union",
                    "France",
                    "Germany",
                    "Israel",
                    "Italy",
                    "Netherlands",
                    "Norway",
                    "Other countries in Europe",
                    "Other EU17 countries",
                    "Other EU7 countries",
                    "Poland",
                    "Romania",
                    "Slovenia",
                    "Sweden",
                    "Ukraine",
                    "United Kingdom",
                    "Bahrain",
                    "Iran",
                    "Iraq",
                    "Jordan",
                    "Kuwait",
                    "Lebanon",
                    "Oman",
                    "Qatar",
                    "Saudi Arabia",
                    "Syria",
                    "United Arab Emirates",
                    "Yemen",
                    "Canada",
                    "Mexico",
                    "United States",
                    "Other",
                    "Azerbaijan",
                    "Kazakhstan",
                    "Russia",
                    "Turkmenistan",
                    "Uzbekistan"
                  ],
                  "name": "",
                  "type": "choropleth",
                  "z": [
                    3444.2471137046814,
                    1202.906883239746,
                    217.67468643188477,
                    949.0962986946106,
                    714.5491256713867,
                    593.7422882080078,
                    1358.7526054382324,
                    330.7173662185669,
                    528.1000461578369,
                    1584.8867645263672,
                    2602.5118589401245,
                    183.74487322568893,
                    152.66140794754028,
                    2967.099594116211,
                    280.85049295425415,
                    216.61991715431213,
                    322.9053657531738,
                    524.3555742343888,
                    1338.7247838974,
                    387.4755683898926,
                    58.197754669189464,
                    1753.2861576080322,
                    728.9415073394775,
                    699.7686233520508,
                    201.8076241016388,
                    899.6560859680176,
                    6597.824401855469,
                    380.1580743789673,
                    5.241898099780083,
                    194.34455108642578,
                    787.4548187255859,
                    2875.9739303588867,
                    897.8019154071808,
                    1962.222023010254,
                    2836.260467529297,
                    117.64677429199219,
                    287.4242949485779,
                    5543.555191040039,
                    3624.2413787841797,
                    54.243036985397346,
                    55676.14929199219,
                    29666.771362304688,
                    14324.099731445312,
                    1540.1690464019775,
                    1264.6188411712646,
                    1584.689250946045,
                    789.5267643928528,
                    1366.6505765914917,
                    4413.595275878906,
                    7250.228210449219,
                    2533.3092346191406,
                    3374.940361022949,
                    3072.7383728027344,
                    5251.163146972656,
                    1035.3223419189453,
                    19964.342742919922,
                    3235.007749557495,
                    451.2367718219757,
                    876.3107101917267,
                    115.19718360900879,
                    979.7181186676025,
                    1176.946632385254,
                    281.71633863449097,
                    901.3240792751312,
                    4048.5412378311157,
                    327.6132502555847,
                    78.85836720466614,
                    16224.203491210938,
                    2428.63277053833,
                    2295.4889602661133,
                    366.17934262752533,
                    1695.4943008422852,
                    649.761152267456,
                    196.71949672698975,
                    5138.841949462891,
                    5360.783149719238,
                    454.0235424041748,
                    1872.8964500427246,
                    909.4443511962891,
                    75.66051197052002,
                    330.5201530456543,
                    1404.25537109375,
                    2517.1427307128906,
                    365.5249534845352,
                    7400.863174438477,
                    3048.89506816864,
                    274.12176793813705,
                    1268.22517734766,
                    129.76942890882492,
                    980.6367902755737,
                    1219.8110656738281,
                    4155.727294921875,
                    541.1058144569397,
                    1952.2037315368652,
                    488.50257712602615,
                    4561.695083618164,
                    6051.109085083008,
                    31835.24688720703,
                    13576.477111816406,
                    623.6879660487175,
                    3719.0014362335205,
                    24354.845947265625,
                    5094.357393741608,
                    1966.8626146316528
                  ]
                }
              ],
              "layout": {
                "coloraxis": {
                  "cmax": 60000,
                  "cmin": 5,
                  "colorbar": {
                    "title": {
                      "text": "toplam emisyon değeri"
                    }
                  },
                  "colorscale": [
                    [
                      0,
                      "rgb(255,245,240)"
                    ],
                    [
                      0.125,
                      "rgb(254,224,210)"
                    ],
                    [
                      0.25,
                      "rgb(252,187,161)"
                    ],
                    [
                      0.375,
                      "rgb(252,146,114)"
                    ],
                    [
                      0.5,
                      "rgb(251,106,74)"
                    ],
                    [
                      0.625,
                      "rgb(239,59,44)"
                    ],
                    [
                      0.75,
                      "rgb(203,24,29)"
                    ],
                    [
                      0.875,
                      "rgb(165,15,21)"
                    ],
                    [
                      1,
                      "rgb(103,0,13)"
                    ]
                  ]
                },
                "geo": {
                  "center": {},
                  "domain": {
                    "x": [
                      0,
                      1
                    ],
                    "y": [
                      0,
                      1
                    ]
                  },
                  "projection": {
                    "type": "natural earth"
                  }
                },
                "legend": {
                  "tracegroupgap": 0
                },
                "template": {
                  "data": {
                    "bar": [
                      {
                        "error_x": {
                          "color": "#2a3f5f"
                        },
                        "error_y": {
                          "color": "#2a3f5f"
                        },
                        "marker": {
                          "line": {
                            "color": "#E5ECF6",
                            "width": 0.5
                          },
                          "pattern": {
                            "fillmode": "overlay",
                            "size": 10,
                            "solidity": 0.2
                          }
                        },
                        "type": "bar"
                      }
                    ],
                    "barpolar": [
                      {
                        "marker": {
                          "line": {
                            "color": "#E5ECF6",
                            "width": 0.5
                          },
                          "pattern": {
                            "fillmode": "overlay",
                            "size": 10,
                            "solidity": 0.2
                          }
                        },
                        "type": "barpolar"
                      }
                    ],
                    "carpet": [
                      {
                        "aaxis": {
                          "endlinecolor": "#2a3f5f",
                          "gridcolor": "white",
                          "linecolor": "white",
                          "minorgridcolor": "white",
                          "startlinecolor": "#2a3f5f"
                        },
                        "baxis": {
                          "endlinecolor": "#2a3f5f",
                          "gridcolor": "white",
                          "linecolor": "white",
                          "minorgridcolor": "white",
                          "startlinecolor": "#2a3f5f"
                        },
                        "type": "carpet"
                      }
                    ],
                    "choropleth": [
                      {
                        "colorbar": {
                          "outlinewidth": 0,
                          "ticks": ""
                        },
                        "type": "choropleth"
                      }
                    ],
                    "contour": [
                      {
                        "colorbar": {
                          "outlinewidth": 0,
                          "ticks": ""
                        },
                        "colorscale": [
                          [
                            0,
                            "#0d0887"
                          ],
                          [
                            0.1111111111111111,
                            "#46039f"
                          ],
                          [
                            0.2222222222222222,
                            "#7201a8"
                          ],
                          [
                            0.3333333333333333,
                            "#9c179e"
                          ],
                          [
                            0.4444444444444444,
                            "#bd3786"
                          ],
                          [
                            0.5555555555555556,
                            "#d8576b"
                          ],
                          [
                            0.6666666666666666,
                            "#ed7953"
                          ],
                          [
                            0.7777777777777778,
                            "#fb9f3a"
                          ],
                          [
                            0.8888888888888888,
                            "#fdca26"
                          ],
                          [
                            1,
                            "#f0f921"
                          ]
                        ],
                        "type": "contour"
                      }
                    ],
                    "contourcarpet": [
                      {
                        "colorbar": {
                          "outlinewidth": 0,
                          "ticks": ""
                        },
                        "type": "contourcarpet"
                      }
                    ],
                    "heatmap": [
                      {
                        "colorbar": {
                          "outlinewidth": 0,
                          "ticks": ""
                        },
                        "colorscale": [
                          [
                            0,
                            "#0d0887"
                          ],
                          [
                            0.1111111111111111,
                            "#46039f"
                          ],
                          [
                            0.2222222222222222,
                            "#7201a8"
                          ],
                          [
                            0.3333333333333333,
                            "#9c179e"
                          ],
                          [
                            0.4444444444444444,
                            "#bd3786"
                          ],
                          [
                            0.5555555555555556,
                            "#d8576b"
                          ],
                          [
                            0.6666666666666666,
                            "#ed7953"
                          ],
                          [
                            0.7777777777777778,
                            "#fb9f3a"
                          ],
                          [
                            0.8888888888888888,
                            "#fdca26"
                          ],
                          [
                            1,
                            "#f0f921"
                          ]
                        ],
                        "type": "heatmap"
                      }
                    ],
                    "heatmapgl": [
                      {
                        "colorbar": {
                          "outlinewidth": 0,
                          "ticks": ""
                        },
                        "colorscale": [
                          [
                            0,
                            "#0d0887"
                          ],
                          [
                            0.1111111111111111,
                            "#46039f"
                          ],
                          [
                            0.2222222222222222,
                            "#7201a8"
                          ],
                          [
                            0.3333333333333333,
                            "#9c179e"
                          ],
                          [
                            0.4444444444444444,
                            "#bd3786"
                          ],
                          [
                            0.5555555555555556,
                            "#d8576b"
                          ],
                          [
                            0.6666666666666666,
                            "#ed7953"
                          ],
                          [
                            0.7777777777777778,
                            "#fb9f3a"
                          ],
                          [
                            0.8888888888888888,
                            "#fdca26"
                          ],
                          [
                            1,
                            "#f0f921"
                          ]
                        ],
                        "type": "heatmapgl"
                      }
                    ],
                    "histogram": [
                      {
                        "marker": {
                          "pattern": {
                            "fillmode": "overlay",
                            "size": 10,
                            "solidity": 0.2
                          }
                        },
                        "type": "histogram"
                      }
                    ],
                    "histogram2d": [
                      {
                        "colorbar": {
                          "outlinewidth": 0,
                          "ticks": ""
                        },
                        "colorscale": [
                          [
                            0,
                            "#0d0887"
                          ],
                          [
                            0.1111111111111111,
                            "#46039f"
                          ],
                          [
                            0.2222222222222222,
                            "#7201a8"
                          ],
                          [
                            0.3333333333333333,
                            "#9c179e"
                          ],
                          [
                            0.4444444444444444,
                            "#bd3786"
                          ],
                          [
                            0.5555555555555556,
                            "#d8576b"
                          ],
                          [
                            0.6666666666666666,
                            "#ed7953"
                          ],
                          [
                            0.7777777777777778,
                            "#fb9f3a"
                          ],
                          [
                            0.8888888888888888,
                            "#fdca26"
                          ],
                          [
                            1,
                            "#f0f921"
                          ]
                        ],
                        "type": "histogram2d"
                      }
                    ],
                    "histogram2dcontour": [
                      {
                        "colorbar": {
                          "outlinewidth": 0,
                          "ticks": ""
                        },
                        "colorscale": [
                          [
                            0,
                            "#0d0887"
                          ],
                          [
                            0.1111111111111111,
                            "#46039f"
                          ],
                          [
                            0.2222222222222222,
                            "#7201a8"
                          ],
                          [
                            0.3333333333333333,
                            "#9c179e"
                          ],
                          [
                            0.4444444444444444,
                            "#bd3786"
                          ],
                          [
                            0.5555555555555556,
                            "#d8576b"
                          ],
                          [
                            0.6666666666666666,
                            "#ed7953"
                          ],
                          [
                            0.7777777777777778,
                            "#fb9f3a"
                          ],
                          [
                            0.8888888888888888,
                            "#fdca26"
                          ],
                          [
                            1,
                            "#f0f921"
                          ]
                        ],
                        "type": "histogram2dcontour"
                      }
                    ],
                    "mesh3d": [
                      {
                        "colorbar": {
                          "outlinewidth": 0,
                          "ticks": ""
                        },
                        "type": "mesh3d"
                      }
                    ],
                    "parcoords": [
                      {
                        "line": {
                          "colorbar": {
                            "outlinewidth": 0,
                            "ticks": ""
                          }
                        },
                        "type": "parcoords"
                      }
                    ],
                    "pie": [
                      {
                        "automargin": true,
                        "type": "pie"
                      }
                    ],
                    "scatter": [
                      {
                        "fillpattern": {
                          "fillmode": "overlay",
                          "size": 10,
                          "solidity": 0.2
                        },
                        "type": "scatter"
                      }
                    ],
                    "scatter3d": [
                      {
                        "line": {
                          "colorbar": {
                            "outlinewidth": 0,
                            "ticks": ""
                          }
                        },
                        "marker": {
                          "colorbar": {
                            "outlinewidth": 0,
                            "ticks": ""
                          }
                        },
                        "type": "scatter3d"
                      }
                    ],
                    "scattercarpet": [
                      {
                        "marker": {
                          "colorbar": {
                            "outlinewidth": 0,
                            "ticks": ""
                          }
                        },
                        "type": "scattercarpet"
                      }
                    ],
                    "scattergeo": [
                      {
                        "marker": {
                          "colorbar": {
                            "outlinewidth": 0,
                            "ticks": ""
                          }
                        },
                        "type": "scattergeo"
                      }
                    ],
                    "scattergl": [
                      {
                        "marker": {
                          "colorbar": {
                            "outlinewidth": 0,
                            "ticks": ""
                          }
                        },
                        "type": "scattergl"
                      }
                    ],
                    "scattermapbox": [
                      {
                        "marker": {
                          "colorbar": {
                            "outlinewidth": 0,
                            "ticks": ""
                          }
                        },
                        "type": "scattermapbox"
                      }
                    ],
                    "scatterpolar": [
                      {
                        "marker": {
                          "colorbar": {
                            "outlinewidth": 0,
                            "ticks": ""
                          }
                        },
                        "type": "scatterpolar"
                      }
                    ],
                    "scatterpolargl": [
                      {
                        "marker": {
                          "colorbar": {
                            "outlinewidth": 0,
                            "ticks": ""
                          }
                        },
                        "type": "scatterpolargl"
                      }
                    ],
                    "scatterternary": [
                      {
                        "marker": {
                          "colorbar": {
                            "outlinewidth": 0,
                            "ticks": ""
                          }
                        },
                        "type": "scatterternary"
                      }
                    ],
                    "surface": [
                      {
                        "colorbar": {
                          "outlinewidth": 0,
                          "ticks": ""
                        },
                        "colorscale": [
                          [
                            0,
                            "#0d0887"
                          ],
                          [
                            0.1111111111111111,
                            "#46039f"
                          ],
                          [
                            0.2222222222222222,
                            "#7201a8"
                          ],
                          [
                            0.3333333333333333,
                            "#9c179e"
                          ],
                          [
                            0.4444444444444444,
                            "#bd3786"
                          ],
                          [
                            0.5555555555555556,
                            "#d8576b"
                          ],
                          [
                            0.6666666666666666,
                            "#ed7953"
                          ],
                          [
                            0.7777777777777778,
                            "#fb9f3a"
                          ],
                          [
                            0.8888888888888888,
                            "#fdca26"
                          ],
                          [
                            1,
                            "#f0f921"
                          ]
                        ],
                        "type": "surface"
                      }
                    ],
                    "table": [
                      {
                        "cells": {
                          "fill": {
                            "color": "#EBF0F8"
                          },
                          "line": {
                            "color": "white"
                          }
                        },
                        "header": {
                          "fill": {
                            "color": "#C8D4E3"
                          },
                          "line": {
                            "color": "white"
                          }
                        },
                        "type": "table"
                      }
                    ]
                  },
                  "layout": {
                    "annotationdefaults": {
                      "arrowcolor": "#2a3f5f",
                      "arrowhead": 0,
                      "arrowwidth": 1
                    },
                    "autotypenumbers": "strict",
                    "coloraxis": {
                      "colorbar": {
                        "outlinewidth": 0,
                        "ticks": ""
                      }
                    },
                    "colorscale": {
                      "diverging": [
                        [
                          0,
                          "#8e0152"
                        ],
                        [
                          0.1,
                          "#c51b7d"
                        ],
                        [
                          0.2,
                          "#de77ae"
                        ],
                        [
                          0.3,
                          "#f1b6da"
                        ],
                        [
                          0.4,
                          "#fde0ef"
                        ],
                        [
                          0.5,
                          "#f7f7f7"
                        ],
                        [
                          0.6,
                          "#e6f5d0"
                        ],
                        [
                          0.7,
                          "#b8e186"
                        ],
                        [
                          0.8,
                          "#7fbc41"
                        ],
                        [
                          0.9,
                          "#4d9221"
                        ],
                        [
                          1,
                          "#276419"
                        ]
                      ],
                      "sequential": [
                        [
                          0,
                          "#0d0887"
                        ],
                        [
                          0.1111111111111111,
                          "#46039f"
                        ],
                        [
                          0.2222222222222222,
                          "#7201a8"
                        ],
                        [
                          0.3333333333333333,
                          "#9c179e"
                        ],
                        [
                          0.4444444444444444,
                          "#bd3786"
                        ],
                        [
                          0.5555555555555556,
                          "#d8576b"
                        ],
                        [
                          0.6666666666666666,
                          "#ed7953"
                        ],
                        [
                          0.7777777777777778,
                          "#fb9f3a"
                        ],
                        [
                          0.8888888888888888,
                          "#fdca26"
                        ],
                        [
                          1,
                          "#f0f921"
                        ]
                      ],
                      "sequentialminus": [
                        [
                          0,
                          "#0d0887"
                        ],
                        [
                          0.1111111111111111,
                          "#46039f"
                        ],
                        [
                          0.2222222222222222,
                          "#7201a8"
                        ],
                        [
                          0.3333333333333333,
                          "#9c179e"
                        ],
                        [
                          0.4444444444444444,
                          "#bd3786"
                        ],
                        [
                          0.5555555555555556,
                          "#d8576b"
                        ],
                        [
                          0.6666666666666666,
                          "#ed7953"
                        ],
                        [
                          0.7777777777777778,
                          "#fb9f3a"
                        ],
                        [
                          0.8888888888888888,
                          "#fdca26"
                        ],
                        [
                          1,
                          "#f0f921"
                        ]
                      ]
                    },
                    "colorway": [
                      "#636efa",
                      "#EF553B",
                      "#00cc96",
                      "#ab63fa",
                      "#FFA15A",
                      "#19d3f3",
                      "#FF6692",
                      "#B6E880",
                      "#FF97FF",
                      "#FECB52"
                    ],
                    "font": {
                      "color": "#2a3f5f"
                    },
                    "geo": {
                      "bgcolor": "white",
                      "lakecolor": "white",
                      "landcolor": "#E5ECF6",
                      "showlakes": true,
                      "showland": true,
                      "subunitcolor": "white"
                    },
                    "hoverlabel": {
                      "align": "left"
                    },
                    "hovermode": "closest",
                    "mapbox": {
                      "style": "light"
                    },
                    "paper_bgcolor": "white",
                    "plot_bgcolor": "#E5ECF6",
                    "polar": {
                      "angularaxis": {
                        "gridcolor": "white",
                        "linecolor": "white",
                        "ticks": ""
                      },
                      "bgcolor": "#E5ECF6",
                      "radialaxis": {
                        "gridcolor": "white",
                        "linecolor": "white",
                        "ticks": ""
                      }
                    },
                    "scene": {
                      "xaxis": {
                        "backgroundcolor": "#E5ECF6",
                        "gridcolor": "white",
                        "gridwidth": 2,
                        "linecolor": "white",
                        "showbackground": true,
                        "ticks": "",
                        "zerolinecolor": "white"
                      },
                      "yaxis": {
                        "backgroundcolor": "#E5ECF6",
                        "gridcolor": "white",
                        "gridwidth": 2,
                        "linecolor": "white",
                        "showbackground": true,
                        "ticks": "",
                        "zerolinecolor": "white"
                      },
                      "zaxis": {
                        "backgroundcolor": "#E5ECF6",
                        "gridcolor": "white",
                        "gridwidth": 2,
                        "linecolor": "white",
                        "showbackground": true,
                        "ticks": "",
                        "zerolinecolor": "white"
                      }
                    },
                    "shapedefaults": {
                      "line": {
                        "color": "#2a3f5f"
                      }
                    },
                    "ternary": {
                      "aaxis": {
                        "gridcolor": "white",
                        "linecolor": "white",
                        "ticks": ""
                      },
                      "baxis": {
                        "gridcolor": "white",
                        "linecolor": "white",
                        "ticks": ""
                      },
                      "bgcolor": "#E5ECF6",
                      "caxis": {
                        "gridcolor": "white",
                        "linecolor": "white",
                        "ticks": ""
                      }
                    },
                    "title": {
                      "x": 0.05
                    },
                    "xaxis": {
                      "automargin": true,
                      "gridcolor": "white",
                      "linecolor": "white",
                      "ticks": "",
                      "title": {
                        "standoff": 15
                      },
                      "zerolinecolor": "white",
                      "zerolinewidth": 2
                    },
                    "yaxis": {
                      "automargin": true,
                      "gridcolor": "white",
                      "linecolor": "white",
                      "ticks": "",
                      "title": {
                        "standoff": 15
                      },
                      "zerolinecolor": "white",
                      "zerolinewidth": 2
                    }
                  }
                },
                "title": {
                  "text": "DÜNYA EMİSYON DEĞERİ"
                }
              }
            }
          },
          "metadata": {},
          "output_type": "display_data"
        }
      ],
      "source": [
        "# Dünya toplam emisyon haritası\n",
        "\n",
        "fig = px.choropleth(result, locations=\"ülkeler\", locationmode=\"country names\", color=\"toplam emisyon değeri\",color_continuous_scale= \"reds\",\n",
        "                    hover_name=\"ülkeler\",range_color=[5,60000],\n",
        "                    projection=\"natural earth\",title=\"DÜNYA EMİSYON DEĞERİ\")\n",
        "fig.show()\n",
        "\n",
        "# en fazla emisyona sahip olan Çin , en az emisyona sahip olan ülke ise Doğu Afrikada bir ada olan ufak Seyşeller ülkesidir."
      ]
    },
    {
      "cell_type": "code",
      "execution_count": 25,
      "metadata": {},
      "outputs": [
        {
          "data": {
            "application/vnd.plotly.v1+json": {
              "config": {
                "plotlyServerURL": "https://plot.ly"
              },
              "data": [
                {
                  "domain": {
                    "x": [
                      0,
                      1
                    ],
                    "y": [
                      0,
                      1
                    ]
                  },
                  "hovertemplate": "region=%{label}<br>emissions=%{value}<extra></extra>",
                  "labels": [
                    "Africa",
                    "Africa",
                    "Africa",
                    "Africa",
                    "Africa",
                    "Africa",
                    "Africa",
                    "Africa",
                    "Africa",
                    "Africa",
                    "Africa",
                    "Africa",
                    "Africa",
                    "Africa",
                    "Africa",
                    "Africa",
                    "Africa",
                    "Africa",
                    "Africa",
                    "Africa",
                    "Africa",
                    "Africa",
                    "Africa",
                    "Africa",
                    "Africa",
                    "Africa",
                    "Africa",
                    "Africa",
                    "Africa",
                    "Africa",
                    "Africa",
                    "Africa",
                    "Africa",
                    "Africa",
                    "Africa",
                    "Africa",
                    "Africa",
                    "Africa",
                    "Africa",
                    "Africa",
                    "Africa",
                    "Africa",
                    "Africa",
                    "Africa",
                    "Africa",
                    "Africa",
                    "Africa",
                    "Africa",
                    "Africa",
                    "Africa",
                    "Africa",
                    "Africa",
                    "Africa",
                    "Africa",
                    "Africa",
                    "Africa",
                    "Africa",
                    "Africa",
                    "Africa",
                    "Africa",
                    "Africa",
                    "Africa",
                    "Africa",
                    "Africa",
                    "Africa",
                    "Africa",
                    "Africa",
                    "Africa",
                    "Africa",
                    "Africa",
                    "Africa",
                    "Africa",
                    "Africa",
                    "Africa",
                    "Africa",
                    "Africa",
                    "Africa",
                    "Africa",
                    "Africa",
                    "Africa",
                    "Africa",
                    "Africa",
                    "Africa",
                    "Africa",
                    "Africa",
                    "Africa",
                    "Africa",
                    "Africa",
                    "Africa",
                    "Africa",
                    "Africa",
                    "Africa",
                    "Africa",
                    "Africa",
                    "Africa",
                    "Africa",
                    "Africa",
                    "Africa",
                    "Africa",
                    "Africa",
                    "Africa",
                    "Africa",
                    "Africa",
                    "Africa",
                    "Africa",
                    "Africa",
                    "Africa",
                    "Africa",
                    "Africa",
                    "Africa",
                    "Africa",
                    "Africa",
                    "Africa",
                    "Africa",
                    "Africa",
                    "Africa",
                    "Africa",
                    "Africa",
                    "Africa",
                    "Africa",
                    "Africa",
                    "Africa",
                    "Africa",
                    "Africa",
                    "Africa",
                    "Africa",
                    "Africa",
                    "Africa",
                    "Africa",
                    "Africa",
                    "Africa",
                    "Africa",
                    "Africa",
                    "Africa",
                    "Africa",
                    "Africa",
                    "Africa",
                    "Africa",
                    "Africa",
                    "Africa",
                    "Africa",
                    "Africa",
                    "Africa",
                    "Africa",
                    "Africa",
                    "Africa",
                    "Africa",
                    "Africa",
                    "Asia Pacific",
                    "Asia Pacific",
                    "Asia Pacific",
                    "Asia Pacific",
                    "Asia Pacific",
                    "Asia Pacific",
                    "Asia Pacific",
                    "Asia Pacific",
                    "Asia Pacific",
                    "Asia Pacific",
                    "Asia Pacific",
                    "Asia Pacific",
                    "Asia Pacific",
                    "Asia Pacific",
                    "Asia Pacific",
                    "Asia Pacific",
                    "Asia Pacific",
                    "Asia Pacific",
                    "Asia Pacific",
                    "Asia Pacific",
                    "Asia Pacific",
                    "Asia Pacific",
                    "Asia Pacific",
                    "Asia Pacific",
                    "Asia Pacific",
                    "Asia Pacific",
                    "Asia Pacific",
                    "Asia Pacific",
                    "Asia Pacific",
                    "Asia Pacific",
                    "Asia Pacific",
                    "Asia Pacific",
                    "Asia Pacific",
                    "Asia Pacific",
                    "Asia Pacific",
                    "Asia Pacific",
                    "Asia Pacific",
                    "Asia Pacific",
                    "Asia Pacific",
                    "Asia Pacific",
                    "Asia Pacific",
                    "Asia Pacific",
                    "Asia Pacific",
                    "Asia Pacific",
                    "Asia Pacific",
                    "Asia Pacific",
                    "Asia Pacific",
                    "Asia Pacific",
                    "Asia Pacific",
                    "Asia Pacific",
                    "Asia Pacific",
                    "Asia Pacific",
                    "Asia Pacific",
                    "Asia Pacific",
                    "Asia Pacific",
                    "Asia Pacific",
                    "Asia Pacific",
                    "Asia Pacific",
                    "Asia Pacific",
                    "Asia Pacific",
                    "Asia Pacific",
                    "Asia Pacific",
                    "Asia Pacific",
                    "Asia Pacific",
                    "Central and South America",
                    "Central and South America",
                    "Central and South America",
                    "Central and South America",
                    "Central and South America",
                    "Central and South America",
                    "Central and South America",
                    "Central and South America",
                    "Central and South America",
                    "Central and South America",
                    "Central and South America",
                    "Central and South America",
                    "Central and South America",
                    "Central and South America",
                    "Central and South America",
                    "Central and South America",
                    "Central and South America",
                    "Central and South America",
                    "Central and South America",
                    "Central and South America",
                    "Central and South America",
                    "Central and South America",
                    "Central and South America",
                    "Central and South America",
                    "Central and South America",
                    "Central and South America",
                    "Central and South America",
                    "Central and South America",
                    "Central and South America",
                    "Central and South America",
                    "Central and South America",
                    "Central and South America",
                    "Central and South America",
                    "Central and South America",
                    "Central and South America",
                    "Central and South America",
                    "Central and South America",
                    "Central and South America",
                    "Central and South America",
                    "Central and South America",
                    "Central and South America",
                    "Central and South America",
                    "Central and South America",
                    "Central and South America",
                    "Central and South America",
                    "Central and South America",
                    "Central and South America",
                    "Central and South America",
                    "Europe",
                    "Europe",
                    "Europe",
                    "Europe",
                    "Europe",
                    "Europe",
                    "Europe",
                    "Europe",
                    "Europe",
                    "Europe",
                    "Europe",
                    "Europe",
                    "Europe",
                    "Europe",
                    "Europe",
                    "Europe",
                    "Europe",
                    "Europe",
                    "Europe",
                    "Europe",
                    "Europe",
                    "Europe",
                    "Europe",
                    "Europe",
                    "Europe",
                    "Europe",
                    "Europe",
                    "Europe",
                    "Europe",
                    "Europe",
                    "Europe",
                    "Europe",
                    "Europe",
                    "Europe",
                    "Europe",
                    "Europe",
                    "Europe",
                    "Europe",
                    "Europe",
                    "Europe",
                    "Europe",
                    "Europe",
                    "Europe",
                    "Europe",
                    "Europe",
                    "Europe",
                    "Europe",
                    "Europe",
                    "Europe",
                    "Europe",
                    "Europe",
                    "Europe",
                    "Europe",
                    "Europe",
                    "Europe",
                    "Europe",
                    "Europe",
                    "Europe",
                    "Europe",
                    "Europe",
                    "Europe",
                    "Europe",
                    "Europe",
                    "Europe",
                    "Europe",
                    "Europe",
                    "Europe",
                    "Europe",
                    "Europe",
                    "Europe",
                    "Europe",
                    "Europe",
                    "Middle East",
                    "Middle East",
                    "Middle East",
                    "Middle East",
                    "Middle East",
                    "Middle East",
                    "Middle East",
                    "Middle East",
                    "Middle East",
                    "Middle East",
                    "Middle East",
                    "Middle East",
                    "Middle East",
                    "Middle East",
                    "Middle East",
                    "Middle East",
                    "Middle East",
                    "Middle East",
                    "Middle East",
                    "Middle East",
                    "Middle East",
                    "Middle East",
                    "Middle East",
                    "Middle East",
                    "Middle East",
                    "Middle East",
                    "Middle East",
                    "Middle East",
                    "Middle East",
                    "Middle East",
                    "Middle East",
                    "Middle East",
                    "Middle East",
                    "Middle East",
                    "Middle East",
                    "Middle East",
                    "Middle East",
                    "Middle East",
                    "Middle East",
                    "Middle East",
                    "Middle East",
                    "Middle East",
                    "Middle East",
                    "Middle East",
                    "Middle East",
                    "Middle East",
                    "Middle East",
                    "Middle East",
                    "North America",
                    "North America",
                    "North America",
                    "North America",
                    "North America",
                    "North America",
                    "North America",
                    "North America",
                    "North America",
                    "North America",
                    "North America",
                    "North America",
                    "Other",
                    "Other",
                    "Other",
                    "Other",
                    "Russia & Caspian",
                    "Russia & Caspian",
                    "Russia & Caspian",
                    "Russia & Caspian",
                    "Russia & Caspian",
                    "Russia & Caspian",
                    "Russia & Caspian",
                    "Russia & Caspian",
                    "Russia & Caspian",
                    "Russia & Caspian",
                    "Russia & Caspian",
                    "Russia & Caspian",
                    "Russia & Caspian",
                    "Russia & Caspian",
                    "Russia & Caspian",
                    "Russia & Caspian",
                    "Russia & Caspian",
                    "Russia & Caspian",
                    "Russia & Caspian",
                    "Russia & Caspian"
                  ],
                  "legendgroup": "",
                  "name": "",
                  "showlegend": true,
                  "type": "pie",
                  "values": [
                    257.6112060546875,
                    2669.194580078125,
                    6.475720882415772,
                    510.9656066894531,
                    400.9695739746094,
                    568.7333374023438,
                    81.70992279052734,
                    151.49404907226562,
                    105.69103240966795,
                    26.6285400390625,
                    43.24774169921875,
                    42.10737228393555,
                    97.25849151611328,
                    6.199222564697266,
                    2.236912250518799,
                    843.4016723632812,
                    279.5312194824219,
                    216.560775756836,
                    23.94275665283203,
                    194.51437377929688,
                    250.8168029785156,
                    173.46914672851562,
                    22.85633850097656,
                    146.6,
                    1223.9329833984375,
                    51.41695022583008,
                    13.205078125,
                    70.19759368896484,
                    23.8709659576416,
                    264.7666931152344,
                    11.99696445465088,
                    30.08274269104004,
                    185.7007751464844,
                    93.39645385742188,
                    28.767297744750977,
                    220.2355194091797,
                    555.5286865234375,
                    260.6929016113281,
                    201.8346710205078,
                    566.8305053710938,
                    684.5322265625,
                    958.0424194335938,
                    12.003130912780762,
                    947.93408203125,
                    0.438739001750946,
                    169.01870727539062,
                    2.3649120330810547,
                    11.922514915466309,
                    120.17935180664062,
                    5.936958312988281,
                    2.5068612098693848,
                    24.038236618041992,
                    1910.0897216796875,
                    464.2127685546875,
                    177.9381866455078,
                    414.8589172363281,
                    5.590458393096924,
                    248.5525665283203,
                    5.498744964599609,
                    21.208723068237305,
                    29.567506790161133,
                    3.931763887405396,
                    14.088419914245604,
                    169.0322265625,
                    15.8,
                    120.73609161376952,
                    26.986873626708984,
                    159.3824005126953,
                    438.159423828125,
                    0.0080000003799796,
                    17.251436233520508,
                    68.93671417236328,
                    52.83677673339844,
                    26.177602767944336,
                    8.758500099182129,
                    1250.951904296875,
                    28.6,
                    143.8259735107422,
                    34.40288162231445,
                    180.646713256836,
                    9.208291053771973,
                    15.316903114318848,
                    19.37256050109864,
                    14.3,
                    67.41584777832031,
                    1599.4412841796875,
                    3.0724658966064453,
                    83.35655975341797,
                    295.3795166015625,
                    22.181472778320312,
                    6.258478164672852,
                    405.1220397949219,
                    210.65399169921875,
                    227.3558959960937,
                    106.01947784423828,
                    155.7392578125,
                    181.9879150390625,
                    2.631089210510254,
                    1.329381227493286,
                    15.859238624572754,
                    696.4396362304688,
                    40.86768341064453,
                    10.043743133544922,
                    152.30502319335938,
                    2082.188232421875,
                    3306.0712890625,
                    347.1287841796875,
                    862.4360961914062,
                    261.5225524902344,
                    13.024876594543455,
                    4.177417755126953,
                    101.4332275390625,
                    0.078720711171627,
                    0.0518720373511314,
                    2.491305351257324,
                    2.62,
                    86.26763916015625,
                    9.578605651855469,
                    49.99830627441406,
                    48.5,
                    625.7147827148438,
                    29.507999420166016,
                    23.82088088989257,
                    108.4111557006836,
                    760.32275390625,
                    1239.0296630859375,
                    42.40746307373047,
                    834.2140502929688,
                    695.7181396484375,
                    76.9888916015625,
                    3.3333332538604736,
                    121.76155090332033,
                    1549.11083984375,
                    143.06582641601562,
                    36.831764221191406,
                    233.21359252929688,
                    1180.221923828125,
                    203.3902282714844,
                    1225.0953369140625,
                    227.552978515625,
                    50.73590850830078,
                    19.2255916595459,
                    9.78065299987793,
                    37.90462112426758,
                    97.72246551513672,
                    77.23422241210938,
                    4.220635890960693,
                    108.2469711303711,
                    2450.463134765625,
                    2232.23876953125,
                    241.8041534423828,
                    619.0491333007812,
                    2410.234375,
                    334.3358459472656,
                    54.36891174316406,
                    825.30224609375,
                    0.8412342667579651,
                    43.50729370117188,
                    0.2182318568229675,
                    9.676277160644531,
                    18501.9140625,
                    25372.22265625,
                    1377.8709716796875,
                    10424.1416015625,
                    18358.517578125,
                    5185.236328125,
                    571.2567138671875,
                    5551.7607421875,
                    3518.344482421875,
                    5080.369140625,
                    1156.4476318359375,
                    4568.9384765625,
                    991.6493530273438,
                    283.3003234863281,
                    21.91791725158692,
                    243.30145263671875,
                    508.4415588378906,
                    200.3266448974609,
                    28.59282493591309,
                    527.2578125,
                    189.0501708984375,
                    474.0210876464844,
                    27.7065544128418,
                    893.9114379882812,
                    549.2429809570312,
                    216.8521881103516,
                    6.77065896987915,
                    16.66093635559082,
                    1155.9993896484375,
                    37.33414077758789,
                    8.055159568786621,
                    165.2618865966797,
                    3300.293701171875,
                    527.3272094726562,
                    149.16900634765625,
                    436.8053588867188,
                    5319.4560546875,
                    920.3993530273438,
                    156.03668212890625,
                    854.3361206054688,
                    1714.848876953125,
                    116.43431091308594,
                    52.23356628417969,
                    649.79248046875,
                    2078.933837890625,
                    535.2486572265625,
                    56.79174041748047,
                    703.9661254882812,
                    2193.2626953125,
                    60.93199920654297,
                    34.768653869628906,
                    783.7750244140625,
                    3152.9326171875,
                    1307.0936279296875,
                    85.4056396484375,
                    705.7312622070312,
                    673.754150390625,
                    128.09658813476562,
                    146.38304138183594,
                    87.08856201171875,
                    14020.0888671875,
                    1756.495361328125,
                    387.7013854980469,
                    3800.05712890625,
                    1795.9031982421875,
                    778.1613159179688,
                    17.213926315307617,
                    643.7293090820312,
                    267.4549255371094,
                    21.06509017944336,
                    2.341588258743286,
                    160.3751678466797,
                    359.8713684082031,
                    277.0992736816406,
                    3.937007188796997,
                    235.403060913086,
                    57.39715576171875,
                    47.569732666015625,
                    1.915329933166504,
                    8.31496524810791,
                    835.0689086914062,
                    16.34809112548828,
                    13.040079116821287,
                    115.26103973388672,
                    639.6949462890625,
                    131.71063232421875,
                    50.463600158691406,
                    355.07745361328125,
                    4.345527648925781,
                    209.22000122070312,
                    5.858375072479248,
                    62.29243469238281,
                    751.9459228515625,
                    7.599424362182617,
                    3.5114591121673584,
                    138.26727294921875,
                    1015.0640869140624,
                    2642.70361328125,
                    10.820260047912598,
                    379.9532775878906,
                    240.09361267089844,
                    41.51583480834961,
                    5.735045909881592,
                    40.26875686645508,
                    27.72345733642578,
                    11.624244689941406,
                    2.18104100227356,
                    37.32962417602539,
                    8851.337890625,
                    2760.969970703125,
                    290.8985595703125,
                    4320.9970703125,
                    1564.2218017578125,
                    193.59646606445312,
                    39.94035720825195,
                    630.8741455078125,
                    1269.36865234375,
                    353.0937194824219,
                    67.88993072509766,
                    605.1366577148438,
                    39.840087890625,
                    43.2089958190918,
                    0.6706947088241577,
                    282.4595642089844,
                    800.047119140625,
                    285.7864685058594,
                    30.06378936767578,
                    579.596923828125,
                    466.8436584472656,
                    29.25938034057617,
                    15.82078742980957,
                    137.8373260498047,
                    103.60773468017578,
                    41.1037712097168,
                    5.547865867614746,
                    46.46012496948242,
                    2284.248779296875,
                    448.1883544921875,
                    84.71975708007812,
                    2321.68505859375,
                    2811.933837890625,
                    600.064453125,
                    98.36200714111328,
                    1850.4228515625,
                    139.63568115234375,
                    55.59594345092773,
                    8.988862991333008,
                    249.8030548095703,
                    615.5054321289062,
                    865.2888793945312,
                    44.48818588256836,
                    347.61395263671875,
                    367.9289245605469,
                    285.4109191894531,
                    11.696823120117188,
                    244.40768432617188,
                    48.42922592163086,
                    7.726953983306885,
                    1.593956470489502,
                    17.910375595092773,
                    128.65838623046875,
                    31.990554809570312,
                    10.069866180419922,
                    159.8013458251953,
                    377.1493225097656,
                    553.4212036132812,
                    71.82522583007812,
                    401.859619140625,
                    1064.6658935546875,
                    274.63140869140625,
                    64.70419311523438,
                    1113.1412353515625,
                    0.9645923376083374,
                    190.6852569580078,
                    1.48150372505188,
                    172.3936004638672,
                    802.454345703125,
                    5629.822265625,
                    37.20094299316406,
                    931.3856201171876,
                    168.22393798828125,
                    2515.052734375,
                    3.4219236373901367,
                    362.1964721679688,
                    25.815542221069336,
                    47.20696640014648,
                    0.5782174468040466,
                    200.5210418701172,
                    7.323050498962402,
                    1002.0822143554688,
                    0.8249784111976624,
                    257.99493408203125,
                    12.067669868469238,
                    4.712915897369385,
                    0.7648441195487976,
                    112.2239990234375,
                    37.05989837646485,
                    869.2565307617188,
                    9.764742851257324,
                    64.55561828613281,
                    11.3685884475708,
                    1138.517822265625,
                    5.521563529968262,
                    64.40309143066406,
                    121.0209732055664,
                    3051.0966796875,
                    27.8301010131836,
                    955.779541015625,
                    133.05282592773438,
                    237.66441345214844,
                    1.1841530799865725,
                    169.2044219970703,
                    47.43784332275391,
                    1439.1328125,
                    2.969593048095703,
                    462.6634826660156,
                    181.29298400878903,
                    145.18161010742188,
                    0.5342848896980286,
                    161.4936981201172,
                    1072.710693359375,
                    2548.3984375,
                    42.62068176269531,
                    897.9652709960938,
                    2420.791015625,
                    1581.3292236328125,
                    54.36140441894531,
                    1994.62744140625,
                    9409.3251953125,
                    16769.630859375,
                    538.3626098632812,
                    5117.92822265625,
                    7259.01416015625,
                    2420.8798828125,
                    682.0879516601562,
                    3214.4951171875,
                    195.1975250244141,
                    323.2549743652344,
                    0.96043461561203,
                    104.27503204345705,
                    762.0980834960938,
                    2740.561279296875,
                    17.407060623168945,
                    198.9350128173828,
                    2022.095947265625,
                    18078.083984375,
                    323.421630859375,
                    3931.244384765625,
                    304.87176513671875,
                    4740.041015625,
                    1.4148011207580566,
                    48.02981185913086,
                    901.6826171875,
                    780.9161376953125,
                    3.845616340637207,
                    280.4182434082031
                  ]
                }
              ],
              "layout": {
                "legend": {
                  "tracegroupgap": 0
                },
                "template": {
                  "data": {
                    "bar": [
                      {
                        "error_x": {
                          "color": "#2a3f5f"
                        },
                        "error_y": {
                          "color": "#2a3f5f"
                        },
                        "marker": {
                          "line": {
                            "color": "#E5ECF6",
                            "width": 0.5
                          },
                          "pattern": {
                            "fillmode": "overlay",
                            "size": 10,
                            "solidity": 0.2
                          }
                        },
                        "type": "bar"
                      }
                    ],
                    "barpolar": [
                      {
                        "marker": {
                          "line": {
                            "color": "#E5ECF6",
                            "width": 0.5
                          },
                          "pattern": {
                            "fillmode": "overlay",
                            "size": 10,
                            "solidity": 0.2
                          }
                        },
                        "type": "barpolar"
                      }
                    ],
                    "carpet": [
                      {
                        "aaxis": {
                          "endlinecolor": "#2a3f5f",
                          "gridcolor": "white",
                          "linecolor": "white",
                          "minorgridcolor": "white",
                          "startlinecolor": "#2a3f5f"
                        },
                        "baxis": {
                          "endlinecolor": "#2a3f5f",
                          "gridcolor": "white",
                          "linecolor": "white",
                          "minorgridcolor": "white",
                          "startlinecolor": "#2a3f5f"
                        },
                        "type": "carpet"
                      }
                    ],
                    "choropleth": [
                      {
                        "colorbar": {
                          "outlinewidth": 0,
                          "ticks": ""
                        },
                        "type": "choropleth"
                      }
                    ],
                    "contour": [
                      {
                        "colorbar": {
                          "outlinewidth": 0,
                          "ticks": ""
                        },
                        "colorscale": [
                          [
                            0,
                            "#0d0887"
                          ],
                          [
                            0.1111111111111111,
                            "#46039f"
                          ],
                          [
                            0.2222222222222222,
                            "#7201a8"
                          ],
                          [
                            0.3333333333333333,
                            "#9c179e"
                          ],
                          [
                            0.4444444444444444,
                            "#bd3786"
                          ],
                          [
                            0.5555555555555556,
                            "#d8576b"
                          ],
                          [
                            0.6666666666666666,
                            "#ed7953"
                          ],
                          [
                            0.7777777777777778,
                            "#fb9f3a"
                          ],
                          [
                            0.8888888888888888,
                            "#fdca26"
                          ],
                          [
                            1,
                            "#f0f921"
                          ]
                        ],
                        "type": "contour"
                      }
                    ],
                    "contourcarpet": [
                      {
                        "colorbar": {
                          "outlinewidth": 0,
                          "ticks": ""
                        },
                        "type": "contourcarpet"
                      }
                    ],
                    "heatmap": [
                      {
                        "colorbar": {
                          "outlinewidth": 0,
                          "ticks": ""
                        },
                        "colorscale": [
                          [
                            0,
                            "#0d0887"
                          ],
                          [
                            0.1111111111111111,
                            "#46039f"
                          ],
                          [
                            0.2222222222222222,
                            "#7201a8"
                          ],
                          [
                            0.3333333333333333,
                            "#9c179e"
                          ],
                          [
                            0.4444444444444444,
                            "#bd3786"
                          ],
                          [
                            0.5555555555555556,
                            "#d8576b"
                          ],
                          [
                            0.6666666666666666,
                            "#ed7953"
                          ],
                          [
                            0.7777777777777778,
                            "#fb9f3a"
                          ],
                          [
                            0.8888888888888888,
                            "#fdca26"
                          ],
                          [
                            1,
                            "#f0f921"
                          ]
                        ],
                        "type": "heatmap"
                      }
                    ],
                    "heatmapgl": [
                      {
                        "colorbar": {
                          "outlinewidth": 0,
                          "ticks": ""
                        },
                        "colorscale": [
                          [
                            0,
                            "#0d0887"
                          ],
                          [
                            0.1111111111111111,
                            "#46039f"
                          ],
                          [
                            0.2222222222222222,
                            "#7201a8"
                          ],
                          [
                            0.3333333333333333,
                            "#9c179e"
                          ],
                          [
                            0.4444444444444444,
                            "#bd3786"
                          ],
                          [
                            0.5555555555555556,
                            "#d8576b"
                          ],
                          [
                            0.6666666666666666,
                            "#ed7953"
                          ],
                          [
                            0.7777777777777778,
                            "#fb9f3a"
                          ],
                          [
                            0.8888888888888888,
                            "#fdca26"
                          ],
                          [
                            1,
                            "#f0f921"
                          ]
                        ],
                        "type": "heatmapgl"
                      }
                    ],
                    "histogram": [
                      {
                        "marker": {
                          "pattern": {
                            "fillmode": "overlay",
                            "size": 10,
                            "solidity": 0.2
                          }
                        },
                        "type": "histogram"
                      }
                    ],
                    "histogram2d": [
                      {
                        "colorbar": {
                          "outlinewidth": 0,
                          "ticks": ""
                        },
                        "colorscale": [
                          [
                            0,
                            "#0d0887"
                          ],
                          [
                            0.1111111111111111,
                            "#46039f"
                          ],
                          [
                            0.2222222222222222,
                            "#7201a8"
                          ],
                          [
                            0.3333333333333333,
                            "#9c179e"
                          ],
                          [
                            0.4444444444444444,
                            "#bd3786"
                          ],
                          [
                            0.5555555555555556,
                            "#d8576b"
                          ],
                          [
                            0.6666666666666666,
                            "#ed7953"
                          ],
                          [
                            0.7777777777777778,
                            "#fb9f3a"
                          ],
                          [
                            0.8888888888888888,
                            "#fdca26"
                          ],
                          [
                            1,
                            "#f0f921"
                          ]
                        ],
                        "type": "histogram2d"
                      }
                    ],
                    "histogram2dcontour": [
                      {
                        "colorbar": {
                          "outlinewidth": 0,
                          "ticks": ""
                        },
                        "colorscale": [
                          [
                            0,
                            "#0d0887"
                          ],
                          [
                            0.1111111111111111,
                            "#46039f"
                          ],
                          [
                            0.2222222222222222,
                            "#7201a8"
                          ],
                          [
                            0.3333333333333333,
                            "#9c179e"
                          ],
                          [
                            0.4444444444444444,
                            "#bd3786"
                          ],
                          [
                            0.5555555555555556,
                            "#d8576b"
                          ],
                          [
                            0.6666666666666666,
                            "#ed7953"
                          ],
                          [
                            0.7777777777777778,
                            "#fb9f3a"
                          ],
                          [
                            0.8888888888888888,
                            "#fdca26"
                          ],
                          [
                            1,
                            "#f0f921"
                          ]
                        ],
                        "type": "histogram2dcontour"
                      }
                    ],
                    "mesh3d": [
                      {
                        "colorbar": {
                          "outlinewidth": 0,
                          "ticks": ""
                        },
                        "type": "mesh3d"
                      }
                    ],
                    "parcoords": [
                      {
                        "line": {
                          "colorbar": {
                            "outlinewidth": 0,
                            "ticks": ""
                          }
                        },
                        "type": "parcoords"
                      }
                    ],
                    "pie": [
                      {
                        "automargin": true,
                        "type": "pie"
                      }
                    ],
                    "scatter": [
                      {
                        "fillpattern": {
                          "fillmode": "overlay",
                          "size": 10,
                          "solidity": 0.2
                        },
                        "type": "scatter"
                      }
                    ],
                    "scatter3d": [
                      {
                        "line": {
                          "colorbar": {
                            "outlinewidth": 0,
                            "ticks": ""
                          }
                        },
                        "marker": {
                          "colorbar": {
                            "outlinewidth": 0,
                            "ticks": ""
                          }
                        },
                        "type": "scatter3d"
                      }
                    ],
                    "scattercarpet": [
                      {
                        "marker": {
                          "colorbar": {
                            "outlinewidth": 0,
                            "ticks": ""
                          }
                        },
                        "type": "scattercarpet"
                      }
                    ],
                    "scattergeo": [
                      {
                        "marker": {
                          "colorbar": {
                            "outlinewidth": 0,
                            "ticks": ""
                          }
                        },
                        "type": "scattergeo"
                      }
                    ],
                    "scattergl": [
                      {
                        "marker": {
                          "colorbar": {
                            "outlinewidth": 0,
                            "ticks": ""
                          }
                        },
                        "type": "scattergl"
                      }
                    ],
                    "scattermapbox": [
                      {
                        "marker": {
                          "colorbar": {
                            "outlinewidth": 0,
                            "ticks": ""
                          }
                        },
                        "type": "scattermapbox"
                      }
                    ],
                    "scatterpolar": [
                      {
                        "marker": {
                          "colorbar": {
                            "outlinewidth": 0,
                            "ticks": ""
                          }
                        },
                        "type": "scatterpolar"
                      }
                    ],
                    "scatterpolargl": [
                      {
                        "marker": {
                          "colorbar": {
                            "outlinewidth": 0,
                            "ticks": ""
                          }
                        },
                        "type": "scatterpolargl"
                      }
                    ],
                    "scatterternary": [
                      {
                        "marker": {
                          "colorbar": {
                            "outlinewidth": 0,
                            "ticks": ""
                          }
                        },
                        "type": "scatterternary"
                      }
                    ],
                    "surface": [
                      {
                        "colorbar": {
                          "outlinewidth": 0,
                          "ticks": ""
                        },
                        "colorscale": [
                          [
                            0,
                            "#0d0887"
                          ],
                          [
                            0.1111111111111111,
                            "#46039f"
                          ],
                          [
                            0.2222222222222222,
                            "#7201a8"
                          ],
                          [
                            0.3333333333333333,
                            "#9c179e"
                          ],
                          [
                            0.4444444444444444,
                            "#bd3786"
                          ],
                          [
                            0.5555555555555556,
                            "#d8576b"
                          ],
                          [
                            0.6666666666666666,
                            "#ed7953"
                          ],
                          [
                            0.7777777777777778,
                            "#fb9f3a"
                          ],
                          [
                            0.8888888888888888,
                            "#fdca26"
                          ],
                          [
                            1,
                            "#f0f921"
                          ]
                        ],
                        "type": "surface"
                      }
                    ],
                    "table": [
                      {
                        "cells": {
                          "fill": {
                            "color": "#EBF0F8"
                          },
                          "line": {
                            "color": "white"
                          }
                        },
                        "header": {
                          "fill": {
                            "color": "#C8D4E3"
                          },
                          "line": {
                            "color": "white"
                          }
                        },
                        "type": "table"
                      }
                    ]
                  },
                  "layout": {
                    "annotationdefaults": {
                      "arrowcolor": "#2a3f5f",
                      "arrowhead": 0,
                      "arrowwidth": 1
                    },
                    "autotypenumbers": "strict",
                    "coloraxis": {
                      "colorbar": {
                        "outlinewidth": 0,
                        "ticks": ""
                      }
                    },
                    "colorscale": {
                      "diverging": [
                        [
                          0,
                          "#8e0152"
                        ],
                        [
                          0.1,
                          "#c51b7d"
                        ],
                        [
                          0.2,
                          "#de77ae"
                        ],
                        [
                          0.3,
                          "#f1b6da"
                        ],
                        [
                          0.4,
                          "#fde0ef"
                        ],
                        [
                          0.5,
                          "#f7f7f7"
                        ],
                        [
                          0.6,
                          "#e6f5d0"
                        ],
                        [
                          0.7,
                          "#b8e186"
                        ],
                        [
                          0.8,
                          "#7fbc41"
                        ],
                        [
                          0.9,
                          "#4d9221"
                        ],
                        [
                          1,
                          "#276419"
                        ]
                      ],
                      "sequential": [
                        [
                          0,
                          "#0d0887"
                        ],
                        [
                          0.1111111111111111,
                          "#46039f"
                        ],
                        [
                          0.2222222222222222,
                          "#7201a8"
                        ],
                        [
                          0.3333333333333333,
                          "#9c179e"
                        ],
                        [
                          0.4444444444444444,
                          "#bd3786"
                        ],
                        [
                          0.5555555555555556,
                          "#d8576b"
                        ],
                        [
                          0.6666666666666666,
                          "#ed7953"
                        ],
                        [
                          0.7777777777777778,
                          "#fb9f3a"
                        ],
                        [
                          0.8888888888888888,
                          "#fdca26"
                        ],
                        [
                          1,
                          "#f0f921"
                        ]
                      ],
                      "sequentialminus": [
                        [
                          0,
                          "#0d0887"
                        ],
                        [
                          0.1111111111111111,
                          "#46039f"
                        ],
                        [
                          0.2222222222222222,
                          "#7201a8"
                        ],
                        [
                          0.3333333333333333,
                          "#9c179e"
                        ],
                        [
                          0.4444444444444444,
                          "#bd3786"
                        ],
                        [
                          0.5555555555555556,
                          "#d8576b"
                        ],
                        [
                          0.6666666666666666,
                          "#ed7953"
                        ],
                        [
                          0.7777777777777778,
                          "#fb9f3a"
                        ],
                        [
                          0.8888888888888888,
                          "#fdca26"
                        ],
                        [
                          1,
                          "#f0f921"
                        ]
                      ]
                    },
                    "colorway": [
                      "#636efa",
                      "#EF553B",
                      "#00cc96",
                      "#ab63fa",
                      "#FFA15A",
                      "#19d3f3",
                      "#FF6692",
                      "#B6E880",
                      "#FF97FF",
                      "#FECB52"
                    ],
                    "font": {
                      "color": "#2a3f5f"
                    },
                    "geo": {
                      "bgcolor": "white",
                      "lakecolor": "white",
                      "landcolor": "#E5ECF6",
                      "showlakes": true,
                      "showland": true,
                      "subunitcolor": "white"
                    },
                    "hoverlabel": {
                      "align": "left"
                    },
                    "hovermode": "closest",
                    "mapbox": {
                      "style": "light"
                    },
                    "paper_bgcolor": "white",
                    "plot_bgcolor": "#E5ECF6",
                    "polar": {
                      "angularaxis": {
                        "gridcolor": "white",
                        "linecolor": "white",
                        "ticks": ""
                      },
                      "bgcolor": "#E5ECF6",
                      "radialaxis": {
                        "gridcolor": "white",
                        "linecolor": "white",
                        "ticks": ""
                      }
                    },
                    "scene": {
                      "xaxis": {
                        "backgroundcolor": "#E5ECF6",
                        "gridcolor": "white",
                        "gridwidth": 2,
                        "linecolor": "white",
                        "showbackground": true,
                        "ticks": "",
                        "zerolinecolor": "white"
                      },
                      "yaxis": {
                        "backgroundcolor": "#E5ECF6",
                        "gridcolor": "white",
                        "gridwidth": 2,
                        "linecolor": "white",
                        "showbackground": true,
                        "ticks": "",
                        "zerolinecolor": "white"
                      },
                      "zaxis": {
                        "backgroundcolor": "#E5ECF6",
                        "gridcolor": "white",
                        "gridwidth": 2,
                        "linecolor": "white",
                        "showbackground": true,
                        "ticks": "",
                        "zerolinecolor": "white"
                      }
                    },
                    "shapedefaults": {
                      "line": {
                        "color": "#2a3f5f"
                      }
                    },
                    "ternary": {
                      "aaxis": {
                        "gridcolor": "white",
                        "linecolor": "white",
                        "ticks": ""
                      },
                      "baxis": {
                        "gridcolor": "white",
                        "linecolor": "white",
                        "ticks": ""
                      },
                      "bgcolor": "#E5ECF6",
                      "caxis": {
                        "gridcolor": "white",
                        "linecolor": "white",
                        "ticks": ""
                      }
                    },
                    "title": {
                      "x": 0.05
                    },
                    "xaxis": {
                      "automargin": true,
                      "gridcolor": "white",
                      "linecolor": "white",
                      "ticks": "",
                      "title": {
                        "standoff": 15
                      },
                      "zerolinecolor": "white",
                      "zerolinewidth": 2
                    },
                    "yaxis": {
                      "automargin": true,
                      "gridcolor": "white",
                      "linecolor": "white",
                      "ticks": "",
                      "title": {
                        "standoff": 15
                      },
                      "zerolinecolor": "white",
                      "zerolinewidth": 2
                    }
                  }
                },
                "title": {
                  "text": "EMS"
                }
              }
            }
          },
          "metadata": {},
          "output_type": "display_data"
        }
      ],
      "source": [
        "# veri frame içindeki region sütununu kullanarak dünya bölgelerindeki hava kirliliğini pasta dilimi üzerindeki gösterimi.\n",
        "\n",
        "fig = px.pie(veri, values='emissions', names='region', title='EMS')\n",
        "fig.show()\n",
        "\n"
      ]
    },
    {
      "cell_type": "code",
      "execution_count": null,
      "metadata": {},
      "outputs": [],
      "source": []
    }
  ],
  "metadata": {
    "colab": {
      "provenance": []
    },
    "kernelspec": {
      "display_name": "Python 3",
      "name": "python3"
    },
    "language_info": {
      "codemirror_mode": {
        "name": "ipython",
        "version": 3
      },
      "file_extension": ".py",
      "mimetype": "text/x-python",
      "name": "python",
      "nbconvert_exporter": "python",
      "pygments_lexer": "ipython3",
      "version": "3.9.0"
    }
  },
  "nbformat": 4,
  "nbformat_minor": 0
}
